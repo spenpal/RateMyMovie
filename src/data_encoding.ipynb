{
 "cells": [
  {
   "attachments": {},
   "cell_type": "markdown",
   "metadata": {},
   "source": [
    "# DATA ENCODING\n",
    "\n",
    "Here, we will be considering 3 different types of encoding for our categorical features\n",
    "- Label Enconding\n",
    "- One-Hot Encoding\n",
    "- Target Encoding\n",
    "\n",
    "We will also convert our problem from regression to classification by encoding the ratings into bins, to prove better for results."
   ]
  },
  {
   "cell_type": "code",
   "execution_count": 2,
   "metadata": {},
   "outputs": [],
   "source": [
    "# IMPORTS\n",
    "from sklearn.preprocessing import OneHotEncoder, LabelEncoder\n",
    "from category_encoders.cat_boost import CatBoostEncoder\n",
    "import matplotlib.pyplot as plt\n",
    "import pandas as pd\n",
    "import numpy as np\n",
    "import pickle"
   ]
  },
  {
   "cell_type": "code",
   "execution_count": 3,
   "metadata": {},
   "outputs": [
    {
     "name": "stdout",
     "output_type": "stream",
     "text": [
      "<class 'pandas.core.frame.DataFrame'>\n",
      "RangeIndex: 6648 entries, 0 to 6647\n",
      "Data columns (total 6 columns):\n",
      " #   Column    Non-Null Count  Dtype  \n",
      "---  ------    --------------  -----  \n",
      " 0   index     6648 non-null   int64  \n",
      " 1   year      6648 non-null   int16  \n",
      " 2   runtime   6648 non-null   int16  \n",
      " 3   director  6648 non-null   object \n",
      " 4   star      6648 non-null   object \n",
      " 5   rating    6648 non-null   float32\n",
      "dtypes: float32(1), int16(2), int64(1), object(2)\n",
      "memory usage: 207.9+ KB\n"
     ]
    }
   ],
   "source": [
    "df = pd.read_pickle(r'../datasets/pickle/processed_action_movie_data.pkl')\n",
    "df.info()"
   ]
  },
  {
   "attachments": {},
   "cell_type": "markdown",
   "metadata": {},
   "source": [
    "~~## LABEL ENCODING **[SKIPPED]**~~\n",
    "\n",
    "We will perform lable encoding on the following column(s):\n",
    "- Certificate"
   ]
  },
  {
   "cell_type": "code",
   "execution_count": null,
   "metadata": {},
   "outputs": [],
   "source": [
    "# Define the unique certificates and their typical restrictions\n",
    "certificates = {\n",
    "    'G': 0,\n",
    "    'PG': 1,\n",
    "    'PG-13': 2,\n",
    "    'R': 3,\n",
    "    'NC-17': 4,\n",
    "    'Not Rated': 5,\n",
    "    'Unrated': 5\n",
    "}\n",
    "\n",
    "\n",
    "df = df.drop(df[(df['certificate'] == '16+') | (df['certificate'] == 'TV-14')].index)\n",
    "print(df['certificate'].unique()) # count the number of NaN values in 'certificate'\n",
    "\n",
    "# Create a new column 'certificates_order' with the certificate order\n",
    "df['certificate_enc'] = df['certificate'].map(certificates).astype(int)\n",
    "df['certificate_enc'].value_counts()"
   ]
  },
  {
   "attachments": {},
   "cell_type": "markdown",
   "metadata": {},
   "source": [
    "~~## ONE-HOT ENCODING **[SKIPPED]**~~\n",
    "\n",
    "We will perform one-hot encoding on the following column(s):\n",
    "- Director\n",
    "- Star\n",
    "\n",
    "Since there are multiple directors and actors per row, we have to split them up before we can apply one-hot encoding properly\n",
    "\n",
    "*NOTE: We are aware One-Hot Encoding on high cardinality could result in overfitting and the curse of dimensionality*"
   ]
  },
  {
   "cell_type": "code",
   "execution_count": 14,
   "metadata": {},
   "outputs": [],
   "source": [
    "encoder = OneHotEncoder(handle_unknown=\"ignore\")"
   ]
  },
  {
   "cell_type": "code",
   "execution_count": 15,
   "metadata": {},
   "outputs": [
    {
     "data": {
      "text/plain": [
       "Index(['year', 'runtime', 'director', 'star', 'rating',\n",
       "       'director_A'Ali de Sousa', 'director_A. Raven Cruz',\n",
       "       'director_A. Todd Smith', 'director_A.J. Ager',\n",
       "       'director_A.J. Martinson',\n",
       "       ...\n",
       "       'star_Zlatko Buric', 'star_Zlatko Krickic', 'star_Zoe Naylor',\n",
       "       'star_Zoe Saldana', 'star_Zoey D'Arienzo', 'star_Zoey Deutch',\n",
       "       'star_Zoë Bell', 'star_Zoë Nathenson', 'star_Zul Ariffin',\n",
       "       'star_Óscar Jaenada'],\n",
       "      dtype='object', length=9718)"
      ]
     },
     "execution_count": 15,
     "metadata": {},
     "output_type": "execute_result"
    }
   ],
   "source": [
    "cols_to_enc = ['director', 'star']\n",
    "\n",
    "enc_cols = encoder.fit_transform(df[cols_to_enc]).toarray()\n",
    "enc_df = pd.DataFrame(enc_cols, columns=encoder.get_feature_names_out(cols_to_enc))\n",
    "\n",
    "# Concatenate the new dataframe with the original dataframe\n",
    "df = pd.concat([df, enc_df], axis=1)\n",
    "\n",
    "df.columns"
   ]
  },
  {
   "attachments": {},
   "cell_type": "markdown",
   "metadata": {},
   "source": [
    "# COUNT ENCODING\n",
    "\n",
    "Let's see if we can perform count encoding, instead of one-hot encoding, on the following column(s):\n",
    "- Director\n",
    "- Star"
   ]
  },
  {
   "attachments": {},
   "cell_type": "markdown",
   "metadata": {},
   "source": [
    "## TARGET ENCODING\n",
    "\n",
    "Let's see if we can perform target encoding, instead of one-hot encoding, on the following column(s):\n",
    "- Director\n",
    "- Star"
   ]
  },
  {
   "cell_type": "code",
   "execution_count": 49,
   "metadata": {},
   "outputs": [],
   "source": [
    "# perform count encoding\n",
    "director_counts = df['director'].value_counts()\n",
    "star_counts = df['star'].value_counts()\n",
    "\n",
    "df['director_count'] = df['director'].map(director_counts)\n",
    "df['star_count'] = df['star'].map(star_counts)"
   ]
  },
  {
   "cell_type": "code",
   "execution_count": 39,
   "metadata": {},
   "outputs": [
    {
     "data": {
      "text/html": [
       "<div><div id=998f7d37-e904-4fa2-b0e8-a95dafedf2aa style=\"display:none; background-color:#9D6CFF; color:white; width:200px; height:30px; padding-left:5px; border-radius:4px; flex-direction:row; justify-content:space-around; align-items:center;\" onmouseover=\"this.style.backgroundColor='#BA9BF8'\" onmouseout=\"this.style.backgroundColor='#9D6CFF'\" onclick=\"window.commands?.execute('create-mitosheet-from-dataframe-output');\">See Full Dataframe in Mito</div> <script> if (window.commands?.hasCommand('create-mitosheet-from-dataframe-output')) document.getElementById('998f7d37-e904-4fa2-b0e8-a95dafedf2aa').style.display = 'flex' </script> <table border=\"1\" class=\"dataframe\">\n",
       "  <thead>\n",
       "    <tr style=\"text-align: right;\">\n",
       "      <th></th>\n",
       "      <th>year</th>\n",
       "      <th>runtime</th>\n",
       "      <th>director</th>\n",
       "      <th>star</th>\n",
       "      <th>rating</th>\n",
       "      <th>director_count</th>\n",
       "      <th>star_count</th>\n",
       "    </tr>\n",
       "  </thead>\n",
       "  <tbody>\n",
       "    <tr>\n",
       "      <th>0</th>\n",
       "      <td>2022</td>\n",
       "      <td>161</td>\n",
       "      <td>Ryan Coogler</td>\n",
       "      <td>Letitia Wright</td>\n",
       "      <td>6.9</td>\n",
       "      <td>3</td>\n",
       "      <td>1</td>\n",
       "    </tr>\n",
       "    <tr>\n",
       "      <th>1</th>\n",
       "      <td>2022</td>\n",
       "      <td>192</td>\n",
       "      <td>James Cameron</td>\n",
       "      <td>Sam Worthington</td>\n",
       "      <td>7.8</td>\n",
       "      <td>2</td>\n",
       "      <td>8</td>\n",
       "    </tr>\n",
       "    <tr>\n",
       "      <th>2</th>\n",
       "      <td>2022</td>\n",
       "      <td>139</td>\n",
       "      <td>Dan Kwan</td>\n",
       "      <td>Michelle Yeoh</td>\n",
       "      <td>8.0</td>\n",
       "      <td>1</td>\n",
       "      <td>4</td>\n",
       "    </tr>\n",
       "    <tr>\n",
       "      <th>3</th>\n",
       "      <td>2022</td>\n",
       "      <td>100</td>\n",
       "      <td>Jason Moore</td>\n",
       "      <td>Jennifer Lopez</td>\n",
       "      <td>5.4</td>\n",
       "      <td>1</td>\n",
       "      <td>1</td>\n",
       "    </tr>\n",
       "    <tr>\n",
       "      <th>4</th>\n",
       "      <td>2022</td>\n",
       "      <td>127</td>\n",
       "      <td>David Leitch</td>\n",
       "      <td>Brad Pitt</td>\n",
       "      <td>7.3</td>\n",
       "      <td>4</td>\n",
       "      <td>5</td>\n",
       "    </tr>\n",
       "  </tbody>\n",
       "</table></div>"
      ],
      "text/plain": [
       "   year  runtime       director             star  rating  director_count   \n",
       "0  2022      161   Ryan Coogler   Letitia Wright     6.9               3  \\\n",
       "1  2022      192  James Cameron  Sam Worthington     7.8               2   \n",
       "2  2022      139       Dan Kwan    Michelle Yeoh     8.0               1   \n",
       "3  2022      100    Jason Moore   Jennifer Lopez     5.4               1   \n",
       "4  2022      127   David Leitch        Brad Pitt     7.3               4   \n",
       "\n",
       "   star_count  \n",
       "0           1  \n",
       "1           8  \n",
       "2           4  \n",
       "3           1  \n",
       "4           5  "
      ]
     },
     "execution_count": 39,
     "metadata": {},
     "output_type": "execute_result"
    }
   ],
   "source": [
    "df.head()"
   ]
  },
  {
   "cell_type": "code",
   "execution_count": 40,
   "metadata": {},
   "outputs": [
    {
     "data": {
      "text/plain": [
       "director_count\n",
       "1     3898\n",
       "2     1140\n",
       "3      483\n",
       "4      300\n",
       "5      220\n",
       "6      150\n",
       "7      147\n",
       "8       88\n",
       "9       63\n",
       "14      28\n",
       "12      24\n",
       "11      22\n",
       "10      20\n",
       "19      19\n",
       "17      17\n",
       "16      16\n",
       "13      13\n",
       "Name: count, dtype: int64"
      ]
     },
     "execution_count": 40,
     "metadata": {},
     "output_type": "execute_result"
    }
   ],
   "source": [
    "df['director_count'].value_counts()"
   ]
  },
  {
   "cell_type": "code",
   "execution_count": 41,
   "metadata": {},
   "outputs": [
    {
     "data": {
      "text/plain": [
       "star_count\n",
       "1     4212\n",
       "2      730\n",
       "3      369\n",
       "5      235\n",
       "4      204\n",
       "6      168\n",
       "8       96\n",
       "9       90\n",
       "16      80\n",
       "7       77\n",
       "10      70\n",
       "20      60\n",
       "27      54\n",
       "12      48\n",
       "17      34\n",
       "15      30\n",
       "14      28\n",
       "28      28\n",
       "24      24\n",
       "11      11\n",
       "Name: count, dtype: int64"
      ]
     },
     "execution_count": 41,
     "metadata": {},
     "output_type": "execute_result"
    }
   ],
   "source": [
    "df['star_count'].value_counts()"
   ]
  },
  {
   "attachments": {},
   "cell_type": "markdown",
   "metadata": {},
   "source": [
    "# LABEL ENCODING (for Ratings)\n",
    "\n",
    "We will convert change the problem from a regression to classification problem, which will help us achieve better accuracy"
   ]
  },
  {
   "cell_type": "code",
   "execution_count": 4,
   "metadata": {},
   "outputs": [],
   "source": [
    "# Convert rating into a classification problem\n",
    "bin_num = 3\n",
    "bin_edges = np.linspace(start=0, stop=10, num=bin_num+1) # Create evenly spaced bins between 0 and 10\n",
    "bin_labels = list(range(bin_num))\n",
    "\n",
    "# Create a new column 'rating_class' that contains the bin labels\n",
    "df['rating_class'] = pd.cut(df['rating'], bins=bin_edges, labels=bin_labels)\n",
    "df['rating_class'] = pd.to_numeric(df['rating_class'], downcast='integer')\n",
    "df.drop(columns=['rating'], inplace=True)"
   ]
  },
  {
   "cell_type": "code",
   "execution_count": 5,
   "metadata": {},
   "outputs": [
    {
     "data": {
      "text/plain": [
       "rating_class\n",
       "1    4408\n",
       "2    1489\n",
       "0     751\n",
       "Name: count, dtype: int64"
      ]
     },
     "execution_count": 5,
     "metadata": {},
     "output_type": "execute_result"
    }
   ],
   "source": [
    "df['rating_class'].value_counts()"
   ]
  },
  {
   "cell_type": "code",
   "execution_count": 6,
   "metadata": {},
   "outputs": [
    {
     "name": "stdout",
     "output_type": "stream",
     "text": [
      "<class 'pandas.core.frame.DataFrame'>\n",
      "RangeIndex: 6648 entries, 0 to 6647\n",
      "Data columns (total 6 columns):\n",
      " #   Column        Non-Null Count  Dtype \n",
      "---  ------        --------------  ----- \n",
      " 0   index         6648 non-null   int64 \n",
      " 1   year          6648 non-null   int16 \n",
      " 2   runtime       6648 non-null   int16 \n",
      " 3   director      6648 non-null   object\n",
      " 4   star          6648 non-null   object\n",
      " 5   rating_class  6648 non-null   int8  \n",
      "dtypes: int16(2), int64(1), int8(1), object(2)\n",
      "memory usage: 188.4+ KB\n"
     ]
    }
   ],
   "source": [
    "df.info()"
   ]
  },
  {
   "attachments": {},
   "cell_type": "markdown",
   "metadata": {},
   "source": [
    "# CATBOOST\n",
    "\n",
    "A technique similar to Target Encoding, however, can be better in some situations"
   ]
  },
  {
   "cell_type": "code",
   "execution_count": 7,
   "metadata": {},
   "outputs": [],
   "source": [
    "cbe = CatBoostEncoder()\n",
    "cat_cols = ['director', 'star']\n",
    "train, target = df[cat_cols], df['rating_class']\n",
    "\n",
    "cbe.fit(train, target)\n",
    "df[cat_cols] = cbe.transform(train)"
   ]
  },
  {
   "cell_type": "code",
   "execution_count": 8,
   "metadata": {},
   "outputs": [
    {
     "data": {
      "text/html": [
       "<div><div id=022e2f24-c067-49d4-aa66-2c9cc9a820b4 style=\"display:none; background-color:#9D6CFF; color:white; width:200px; height:30px; padding-left:5px; border-radius:4px; flex-direction:row; justify-content:space-around; align-items:center;\" onmouseover=\"this.style.backgroundColor='#BA9BF8'\" onmouseout=\"this.style.backgroundColor='#9D6CFF'\" onclick=\"window.commands?.execute('create-mitosheet-from-dataframe-output');\">See Full Dataframe in Mito</div> <script> if (window.commands?.hasCommand('create-mitosheet-from-dataframe-output')) document.getElementById('022e2f24-c067-49d4-aa66-2c9cc9a820b4').style.display = 'flex' </script> <table border=\"1\" class=\"dataframe\">\n",
       "  <thead>\n",
       "    <tr style=\"text-align: right;\">\n",
       "      <th></th>\n",
       "      <th>index</th>\n",
       "      <th>year</th>\n",
       "      <th>runtime</th>\n",
       "      <th>director</th>\n",
       "      <th>star</th>\n",
       "      <th>rating_class</th>\n",
       "    </tr>\n",
       "  </thead>\n",
       "  <tbody>\n",
       "    <tr>\n",
       "      <th>0</th>\n",
       "      <td>0</td>\n",
       "      <td>2022</td>\n",
       "      <td>161</td>\n",
       "      <td>1.777753</td>\n",
       "      <td>1.111011</td>\n",
       "      <td>2</td>\n",
       "    </tr>\n",
       "    <tr>\n",
       "      <th>1</th>\n",
       "      <td>1</td>\n",
       "      <td>2022</td>\n",
       "      <td>192</td>\n",
       "      <td>1.703670</td>\n",
       "      <td>1.234557</td>\n",
       "      <td>2</td>\n",
       "    </tr>\n",
       "    <tr>\n",
       "      <th>2</th>\n",
       "      <td>2</td>\n",
       "      <td>2022</td>\n",
       "      <td>139</td>\n",
       "      <td>1.111011</td>\n",
       "      <td>1.422202</td>\n",
       "      <td>2</td>\n",
       "    </tr>\n",
       "    <tr>\n",
       "      <th>3</th>\n",
       "      <td>3</td>\n",
       "      <td>2022</td>\n",
       "      <td>100</td>\n",
       "      <td>1.111011</td>\n",
       "      <td>1.111011</td>\n",
       "      <td>1</td>\n",
       "    </tr>\n",
       "    <tr>\n",
       "      <th>4</th>\n",
       "      <td>4</td>\n",
       "      <td>2022</td>\n",
       "      <td>127</td>\n",
       "      <td>1.622202</td>\n",
       "      <td>1.685168</td>\n",
       "      <td>2</td>\n",
       "    </tr>\n",
       "  </tbody>\n",
       "</table></div>"
      ],
      "text/plain": [
       "   index  year  runtime  director      star  rating_class\n",
       "0      0  2022      161  1.777753  1.111011             2\n",
       "1      1  2022      192  1.703670  1.234557             2\n",
       "2      2  2022      139  1.111011  1.422202             2\n",
       "3      3  2022      100  1.111011  1.111011             1\n",
       "4      4  2022      127  1.622202  1.685168             2"
      ]
     },
     "execution_count": 8,
     "metadata": {},
     "output_type": "execute_result"
    }
   ],
   "source": [
    "df.head()"
   ]
  },
  {
   "cell_type": "code",
   "execution_count": 9,
   "metadata": {},
   "outputs": [
    {
     "data": {
      "text/plain": [
       "count    6648.000000\n",
       "mean        1.103998\n",
       "std         0.232665\n",
       "min         0.111101\n",
       "25%         1.037004\n",
       "50%         1.111011\n",
       "75%         1.111011\n",
       "max         1.888876\n",
       "Name: director, dtype: float64"
      ]
     },
     "execution_count": 9,
     "metadata": {},
     "output_type": "execute_result"
    }
   ],
   "source": [
    "df['director'].describe()"
   ]
  },
  {
   "attachments": {},
   "cell_type": "markdown",
   "metadata": {},
   "source": [
    "# SAVE IT!"
   ]
  },
  {
   "cell_type": "code",
   "execution_count": 78,
   "metadata": {},
   "outputs": [
    {
     "data": {
      "text/html": [
       "<div><div id=793cfea4-8f4f-40d5-9f54-2eadb9fdacf5 style=\"display:none; background-color:#9D6CFF; color:white; width:200px; height:30px; padding-left:5px; border-radius:4px; flex-direction:row; justify-content:space-around; align-items:center;\" onmouseover=\"this.style.backgroundColor='#BA9BF8'\" onmouseout=\"this.style.backgroundColor='#9D6CFF'\" onclick=\"window.commands?.execute('create-mitosheet-from-dataframe-output');\">See Full Dataframe in Mito</div> <script> if (window.commands?.hasCommand('create-mitosheet-from-dataframe-output')) document.getElementById('793cfea4-8f4f-40d5-9f54-2eadb9fdacf5').style.display = 'flex' </script> <table border=\"1\" class=\"dataframe\">\n",
       "  <thead>\n",
       "    <tr style=\"text-align: right;\">\n",
       "      <th></th>\n",
       "      <th>year</th>\n",
       "      <th>runtime</th>\n",
       "      <th>director</th>\n",
       "      <th>star</th>\n",
       "      <th>rating_class</th>\n",
       "    </tr>\n",
       "  </thead>\n",
       "  <tbody>\n",
       "    <tr>\n",
       "      <th>0</th>\n",
       "      <td>2022</td>\n",
       "      <td>161</td>\n",
       "      <td>1.777753</td>\n",
       "      <td>1.111011</td>\n",
       "      <td>2</td>\n",
       "    </tr>\n",
       "    <tr>\n",
       "      <th>1</th>\n",
       "      <td>2022</td>\n",
       "      <td>192</td>\n",
       "      <td>1.703670</td>\n",
       "      <td>1.234557</td>\n",
       "      <td>2</td>\n",
       "    </tr>\n",
       "    <tr>\n",
       "      <th>2</th>\n",
       "      <td>2022</td>\n",
       "      <td>139</td>\n",
       "      <td>1.111011</td>\n",
       "      <td>1.422202</td>\n",
       "      <td>2</td>\n",
       "    </tr>\n",
       "    <tr>\n",
       "      <th>3</th>\n",
       "      <td>2022</td>\n",
       "      <td>100</td>\n",
       "      <td>1.111011</td>\n",
       "      <td>1.111011</td>\n",
       "      <td>1</td>\n",
       "    </tr>\n",
       "    <tr>\n",
       "      <th>4</th>\n",
       "      <td>2022</td>\n",
       "      <td>127</td>\n",
       "      <td>1.622202</td>\n",
       "      <td>1.685168</td>\n",
       "      <td>2</td>\n",
       "    </tr>\n",
       "  </tbody>\n",
       "</table></div>"
      ],
      "text/plain": [
       "   year  runtime  director      star  rating_class\n",
       "0  2022      161  1.777753  1.111011             2\n",
       "1  2022      192  1.703670  1.234557             2\n",
       "2  2022      139  1.111011  1.422202             2\n",
       "3  2022      100  1.111011  1.111011             1\n",
       "4  2022      127  1.622202  1.685168             2"
      ]
     },
     "execution_count": 78,
     "metadata": {},
     "output_type": "execute_result"
    }
   ],
   "source": [
    "df.head()"
   ]
  },
  {
   "cell_type": "code",
   "execution_count": 79,
   "metadata": {},
   "outputs": [
    {
     "data": {
      "text/html": [
       "<div><div id=6164d067-eaeb-4a72-8996-1f2991ff98f0 style=\"display:none; background-color:#9D6CFF; color:white; width:200px; height:30px; padding-left:5px; border-radius:4px; flex-direction:row; justify-content:space-around; align-items:center;\" onmouseover=\"this.style.backgroundColor='#BA9BF8'\" onmouseout=\"this.style.backgroundColor='#9D6CFF'\" onclick=\"window.commands?.execute('create-mitosheet-from-dataframe-output');\">See Full Dataframe in Mito</div> <script> if (window.commands?.hasCommand('create-mitosheet-from-dataframe-output')) document.getElementById('6164d067-eaeb-4a72-8996-1f2991ff98f0').style.display = 'flex' </script> <table border=\"1\" class=\"dataframe\">\n",
       "  <thead>\n",
       "    <tr style=\"text-align: right;\">\n",
       "      <th></th>\n",
       "      <th>year</th>\n",
       "      <th>runtime</th>\n",
       "      <th>director</th>\n",
       "      <th>star</th>\n",
       "      <th>rating_class</th>\n",
       "    </tr>\n",
       "  </thead>\n",
       "  <tbody>\n",
       "    <tr>\n",
       "      <th>count</th>\n",
       "      <td>6648.000000</td>\n",
       "      <td>6648.000000</td>\n",
       "      <td>6648.000000</td>\n",
       "      <td>6648.000000</td>\n",
       "      <td>6648.000000</td>\n",
       "    </tr>\n",
       "    <tr>\n",
       "      <th>mean</th>\n",
       "      <td>2012.455325</td>\n",
       "      <td>97.242329</td>\n",
       "      <td>1.103998</td>\n",
       "      <td>1.108180</td>\n",
       "      <td>1.111011</td>\n",
       "    </tr>\n",
       "    <tr>\n",
       "      <th>std</th>\n",
       "      <td>5.921617</td>\n",
       "      <td>22.203019</td>\n",
       "      <td>0.232665</td>\n",
       "      <td>0.182494</td>\n",
       "      <td>0.569797</td>\n",
       "    </tr>\n",
       "    <tr>\n",
       "      <th>min</th>\n",
       "      <td>2000.000000</td>\n",
       "      <td>1.000000</td>\n",
       "      <td>0.111101</td>\n",
       "      <td>0.277753</td>\n",
       "      <td>0.000000</td>\n",
       "    </tr>\n",
       "    <tr>\n",
       "      <th>25%</th>\n",
       "      <td>2008.000000</td>\n",
       "      <td>87.000000</td>\n",
       "      <td>1.037004</td>\n",
       "      <td>1.111011</td>\n",
       "      <td>1.000000</td>\n",
       "    </tr>\n",
       "    <tr>\n",
       "      <th>50%</th>\n",
       "      <td>2013.000000</td>\n",
       "      <td>94.000000</td>\n",
       "      <td>1.111011</td>\n",
       "      <td>1.111011</td>\n",
       "      <td>1.000000</td>\n",
       "    </tr>\n",
       "    <tr>\n",
       "      <th>75%</th>\n",
       "      <td>2017.000000</td>\n",
       "      <td>106.000000</td>\n",
       "      <td>1.111011</td>\n",
       "      <td>1.111011</td>\n",
       "      <td>1.000000</td>\n",
       "    </tr>\n",
       "    <tr>\n",
       "      <th>max</th>\n",
       "      <td>2023.000000</td>\n",
       "      <td>700.000000</td>\n",
       "      <td>1.888876</td>\n",
       "      <td>1.911101</td>\n",
       "      <td>2.000000</td>\n",
       "    </tr>\n",
       "  </tbody>\n",
       "</table></div>"
      ],
      "text/plain": [
       "              year      runtime     director         star  rating_class\n",
       "count  6648.000000  6648.000000  6648.000000  6648.000000   6648.000000\n",
       "mean   2012.455325    97.242329     1.103998     1.108180      1.111011\n",
       "std       5.921617    22.203019     0.232665     0.182494      0.569797\n",
       "min    2000.000000     1.000000     0.111101     0.277753      0.000000\n",
       "25%    2008.000000    87.000000     1.037004     1.111011      1.000000\n",
       "50%    2013.000000    94.000000     1.111011     1.111011      1.000000\n",
       "75%    2017.000000   106.000000     1.111011     1.111011      1.000000\n",
       "max    2023.000000   700.000000     1.888876     1.911101      2.000000"
      ]
     },
     "execution_count": 79,
     "metadata": {},
     "output_type": "execute_result"
    }
   ],
   "source": [
    "df.describe()"
   ]
  },
  {
   "cell_type": "code",
   "execution_count": 84,
   "metadata": {},
   "outputs": [],
   "source": [
    "extra_name = 'catboost_3'\n",
    "extra_name += \"_\" * 1 if len(extra_name) else 1"
   ]
  },
  {
   "cell_type": "code",
   "execution_count": 85,
   "metadata": {},
   "outputs": [],
   "source": [
    "# Save it as CSV\n",
    "df.to_csv(f'../datasets/csv/{extra_name}encoded_action_movie_data.csv', index=False)"
   ]
  },
  {
   "cell_type": "code",
   "execution_count": 86,
   "metadata": {},
   "outputs": [],
   "source": [
    "# Save it as pickle\n",
    "with open(f'../datasets/pickle/{extra_name}encoded_action_movie_data.pkl', 'wb') as f:\n",
    "    pickle.dump(df, f)"
   ]
  }
 ],
 "metadata": {
  "kernelspec": {
   "display_name": ".venv",
   "language": "python",
   "name": "python3"
  },
  "language_info": {
   "codemirror_mode": {
    "name": "ipython",
    "version": 3
   },
   "file_extension": ".py",
   "mimetype": "text/x-python",
   "name": "python",
   "nbconvert_exporter": "python",
   "pygments_lexer": "ipython3",
   "version": "3.10.9"
  },
  "orig_nbformat": 4
 },
 "nbformat": 4,
 "nbformat_minor": 2
}
