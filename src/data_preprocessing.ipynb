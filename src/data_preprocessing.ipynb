{
 "cells": [
  {
   "cell_type": "code",
   "execution_count": 11,
   "metadata": {},
   "outputs": [],
   "source": [
    "import pandas as pd\n",
    "import numpy as np\n",
    "import pickle"
   ]
  },
  {
   "attachments": {},
   "cell_type": "markdown",
   "metadata": {},
   "source": [
    "# FILTERED ACTION MOVIE DATASET\n",
    "\n",
    "- We are removing the following columns: ['movie_name', 'genre', 'description', 'director_id', 'star_id', 'votes', 'gross(in $)']\n",
    "- We are also filtering the data from 2000 to 2022, while removing weird values from the year column\n",
    "- We will be also removing certifications that don't belong to the USA"
   ]
  },
  {
   "cell_type": "code",
   "execution_count": 98,
   "metadata": {},
   "outputs": [],
   "source": [
    "# Imported action_movie_data.csv and removed redunant columns\n",
    "action_movie_data = pd.read_csv(r'../datasets/action_movie_data.csv')\n",
    "action_movie_data = action_movie_data.drop(columns=['movie_name', 'genre', 'description', 'director_id', 'star_id', 'votes', 'gross(in $)']) \n",
    "\n",
    "# Reordered column rating\n",
    "action_movie_data_columns = [col for col in action_movie_data.columns if col != 'rating']\n",
    "action_movie_data_columns.append('rating')\n",
    "action_movie_data = action_movie_data[action_movie_data_columns]"
   ]
  },
  {
   "cell_type": "code",
   "execution_count": 99,
   "metadata": {
    "scrolled": true
   },
   "outputs": [],
   "source": [
    "# Drop any non-numeric values (except NA values) from the df using year column\n",
    "non_numeric_mask = action_movie_data['year'].str.match(r'[A-Z]+', na=False)\n",
    "action_movie_data = action_movie_data.loc[~non_numeric_mask]\n",
    "\n",
    "# Convert the year column to numeric data type\n",
    "action_movie_data['year'] = pd.to_numeric(action_movie_data['year'], errors='coerce')\n",
    "action_movie_data = action_movie_data[action_movie_data['year'].between(2000, 2022, inclusive='both') | action_movie_data['year'].isna()]"
   ]
  },
  {
   "cell_type": "code",
   "execution_count": 100,
   "metadata": {},
   "outputs": [
    {
     "name": "stdout",
     "output_type": "stream",
     "text": [
      "['PG-13' 'R' 'Not Rated' nan 'PG' 'TV-14' 'TV-MA' '18+' 'Unrated' 'G' 'M'\n",
      " 'TV-PG' 'TV-Y7' 'TV-G' 'NC-17' 'Approved' 'TV-Y7-FV' 'TV-Y' '12' 'MA-13'\n",
      " 'E' 'X' 'T' 'E10+' 'Open']\n"
     ]
    },
    {
     "data": {
      "text/plain": [
       "array(['PG-13', 'R', 'Not Rated', nan, 'PG', 'Unrated', 'G', 'NC-17'],\n",
       "      dtype=object)"
      ]
     },
     "execution_count": 100,
     "metadata": {},
     "output_type": "execute_result"
    }
   ],
   "source": [
    "# Remove any non-USA certifactes from the df using certificate columns\n",
    "print(action_movie_data['certificate'].unique())\n",
    "values_to_keep = ['G', 'PG', 'PG-13', 'R', 'NC-17', np.nan, 'Not Rated', 'Unrated'] # Define a list of values to keep\n",
    "action_movie_data = action_movie_data[action_movie_data['certificate'].isin(values_to_keep)] # Keep only the rows with the specified values\n",
    "action_movie_data['certificate'].unique()"
   ]
  },
  {
   "cell_type": "code",
   "execution_count": 101,
   "metadata": {},
   "outputs": [
    {
     "name": "stdout",
     "output_type": "stream",
     "text": [
      "27965\n"
     ]
    },
    {
     "data": {
      "text/plain": [
       "movie_id           0\n",
       "year            8238\n",
       "certificate    21908\n",
       "runtime        11751\n",
       "director        3719\n",
       "star            7016\n",
       "rating         13608\n",
       "dtype: int64"
      ]
     },
     "execution_count": 101,
     "metadata": {},
     "output_type": "execute_result"
    }
   ],
   "source": [
    "print(len(action_movie_data))\n",
    "# number of missing values\n",
    "action_movie_data.isnull().sum()"
   ]
  },
  {
   "cell_type": "code",
   "execution_count": 102,
   "metadata": {},
   "outputs": [],
   "source": [
    "action_movie_data.to_csv('../datasets/filtered_action_movie_data.csv', index=False)"
   ]
  },
  {
   "attachments": {},
   "cell_type": "markdown",
   "metadata": {},
   "source": [
    "# FILLED ACTION MOVIE DATASET\n",
    "\n",
    "After filling NaN values with movie data we got from a movie API, we will remove any rows that contain any NaN values, since we weren't able to find any information for those movies.\n",
    "\n",
    "We will also convert columns to their respective data types, as well.\n",
    "\n",
    "One thing we noticed was there were a lot of unique directors and actors, which becomes a problem when encoding, due to high cardinality, so we will opt in getting the top director and actor for each movie, to reduce that cardinality."
   ]
  },
  {
   "cell_type": "code",
   "execution_count": 12,
   "metadata": {},
   "outputs": [
    {
     "name": "stdout",
     "output_type": "stream",
     "text": [
      "10702\n"
     ]
    },
    {
     "data": {
      "text/plain": [
       "movie_id          0\n",
       "year              0\n",
       "certificate    6549\n",
       "runtime        2416\n",
       "director        295\n",
       "star            673\n",
       "rating         3540\n",
       "dtype: int64"
      ]
     },
     "execution_count": 12,
     "metadata": {},
     "output_type": "execute_result"
    }
   ],
   "source": [
    "filled_action_movie_data = pd.read_csv(r'../datasets/csv/filled_action_movie_data.csv')\n",
    "print(len(filled_action_movie_data))\n",
    "filled_action_movie_data.isnull().sum()"
   ]
  },
  {
   "cell_type": "code",
   "execution_count": 13,
   "metadata": {},
   "outputs": [
    {
     "data": {
      "text/plain": [
       "year        0\n",
       "runtime     0\n",
       "director    0\n",
       "star        0\n",
       "rating      0\n",
       "dtype: int64"
      ]
     },
     "execution_count": 13,
     "metadata": {},
     "output_type": "execute_result"
    }
   ],
   "source": [
    "# Drop certificate since there are still a lot of missing values even after the filtering\n",
    "processed_action_movie_data = filled_action_movie_data.drop(columns=['movie_id', 'certificate'])\n",
    "processed_action_movie_data = processed_action_movie_data.dropna(axis=0)\n",
    "processed_action_movie_data['runtime'] = processed_action_movie_data['runtime'].str.replace(' min', '')\n",
    "processed_action_movie_data.isnull().sum()"
   ]
  },
  {
   "cell_type": "code",
   "execution_count": 14,
   "metadata": {},
   "outputs": [
    {
     "data": {
      "text/plain": [
       "6648"
      ]
     },
     "execution_count": 14,
     "metadata": {},
     "output_type": "execute_result"
    }
   ],
   "source": [
    "len(processed_action_movie_data)"
   ]
  },
  {
   "cell_type": "code",
   "execution_count": 15,
   "metadata": {},
   "outputs": [],
   "source": [
    "# Numeric Type Conversions\n",
    "processed_action_movie_data['year'] = pd.to_numeric(processed_action_movie_data['year'], errors='coerce', downcast='integer')\n",
    "processed_action_movie_data['runtime'] = pd.to_numeric(processed_action_movie_data['runtime'], errors='coerce', downcast='integer')\n",
    "processed_action_movie_data['rating'] = pd.to_numeric(processed_action_movie_data['rating'], errors='coerce', downcast='float')"
   ]
  },
  {
   "cell_type": "code",
   "execution_count": 16,
   "metadata": {},
   "outputs": [
    {
     "name": "stdout",
     "output_type": "stream",
     "text": [
      "<class 'pandas.core.frame.DataFrame'>\n",
      "Index: 6648 entries, 0 to 10701\n",
      "Data columns (total 5 columns):\n",
      " #   Column    Non-Null Count  Dtype  \n",
      "---  ------    --------------  -----  \n",
      " 0   year      6648 non-null   int16  \n",
      " 1   runtime   6648 non-null   int16  \n",
      " 2   director  6648 non-null   object \n",
      " 3   star      6648 non-null   object \n",
      " 4   rating    6648 non-null   float32\n",
      "dtypes: float32(1), int16(2), object(2)\n",
      "memory usage: 207.8+ KB\n"
     ]
    }
   ],
   "source": [
    "processed_action_movie_data.info()"
   ]
  },
  {
   "cell_type": "code",
   "execution_count": 17,
   "metadata": {},
   "outputs": [],
   "source": [
    "# Make sure there is only one director and star per row\n",
    "processed_action_movie_data.loc[:, 'director'] = processed_action_movie_data['director'].str.split(',').str[0].str.strip()\n",
    "processed_action_movie_data.loc[:, 'star'] = processed_action_movie_data['star'].str.split(',').str[0].str.strip()"
   ]
  },
  {
   "cell_type": "code",
   "execution_count": 18,
   "metadata": {},
   "outputs": [
    {
     "data": {
      "text/html": [
       "<div><div id=dba3eb99-444a-4596-a9d7-5e6406c0cbdc style=\"display:none; background-color:#9D6CFF; color:white; width:200px; height:30px; padding-left:5px; border-radius:4px; flex-direction:row; justify-content:space-around; align-items:center;\" onmouseover=\"this.style.backgroundColor='#BA9BF8'\" onmouseout=\"this.style.backgroundColor='#9D6CFF'\" onclick=\"window.commands?.execute('create-mitosheet-from-dataframe-output');\">See Full Dataframe in Mito</div> <script> if (window.commands?.hasCommand('create-mitosheet-from-dataframe-output')) document.getElementById('dba3eb99-444a-4596-a9d7-5e6406c0cbdc').style.display = 'flex' </script> <table border=\"1\" class=\"dataframe\">\n",
       "  <thead>\n",
       "    <tr style=\"text-align: right;\">\n",
       "      <th></th>\n",
       "      <th>year</th>\n",
       "      <th>runtime</th>\n",
       "      <th>director</th>\n",
       "      <th>star</th>\n",
       "      <th>rating</th>\n",
       "    </tr>\n",
       "  </thead>\n",
       "  <tbody>\n",
       "    <tr>\n",
       "      <th>0</th>\n",
       "      <td>2022</td>\n",
       "      <td>161</td>\n",
       "      <td>Ryan Coogler</td>\n",
       "      <td>Letitia Wright</td>\n",
       "      <td>6.9</td>\n",
       "    </tr>\n",
       "    <tr>\n",
       "      <th>1</th>\n",
       "      <td>2022</td>\n",
       "      <td>192</td>\n",
       "      <td>James Cameron</td>\n",
       "      <td>Sam Worthington</td>\n",
       "      <td>7.8</td>\n",
       "    </tr>\n",
       "    <tr>\n",
       "      <th>2</th>\n",
       "      <td>2022</td>\n",
       "      <td>139</td>\n",
       "      <td>Dan Kwan</td>\n",
       "      <td>Michelle Yeoh</td>\n",
       "      <td>8.0</td>\n",
       "    </tr>\n",
       "    <tr>\n",
       "      <th>3</th>\n",
       "      <td>2022</td>\n",
       "      <td>100</td>\n",
       "      <td>Jason Moore</td>\n",
       "      <td>Jennifer Lopez</td>\n",
       "      <td>5.4</td>\n",
       "    </tr>\n",
       "    <tr>\n",
       "      <th>4</th>\n",
       "      <td>2022</td>\n",
       "      <td>127</td>\n",
       "      <td>David Leitch</td>\n",
       "      <td>Brad Pitt</td>\n",
       "      <td>7.3</td>\n",
       "    </tr>\n",
       "  </tbody>\n",
       "</table></div>"
      ],
      "text/plain": [
       "   year  runtime       director             star  rating\n",
       "0  2022      161   Ryan Coogler   Letitia Wright     6.9\n",
       "1  2022      192  James Cameron  Sam Worthington     7.8\n",
       "2  2022      139       Dan Kwan    Michelle Yeoh     8.0\n",
       "3  2022      100    Jason Moore   Jennifer Lopez     5.4\n",
       "4  2022      127   David Leitch        Brad Pitt     7.3"
      ]
     },
     "execution_count": 18,
     "metadata": {},
     "output_type": "execute_result"
    }
   ],
   "source": [
    "processed_action_movie_data.head()"
   ]
  },
  {
   "cell_type": "code",
   "execution_count": 19,
   "metadata": {},
   "outputs": [
    {
     "data": {
      "text/plain": [
       "year        0\n",
       "runtime     0\n",
       "director    0\n",
       "star        0\n",
       "rating      0\n",
       "dtype: int64"
      ]
     },
     "execution_count": 19,
     "metadata": {},
     "output_type": "execute_result"
    }
   ],
   "source": [
    "processed_action_movie_data.isnull().sum()"
   ]
  },
  {
   "cell_type": "code",
   "execution_count": 20,
   "metadata": {},
   "outputs": [],
   "source": [
    "processed_action_movie_data = processed_action_movie_data.reset_index()"
   ]
  },
  {
   "cell_type": "code",
   "execution_count": 306,
   "metadata": {},
   "outputs": [],
   "source": [
    "# Save it as CSV\n",
    "processed_action_movie_data.to_csv('../datasets/csv/processed_action_movie_data.csv', index=False)"
   ]
  },
  {
   "cell_type": "code",
   "execution_count": 21,
   "metadata": {},
   "outputs": [],
   "source": [
    "# Save it as pickle\n",
    "with open('../datasets/pickle/processed_action_movie_data.pkl', 'wb') as f:\n",
    "    pickle.dump(processed_action_movie_data, f)"
   ]
  }
 ],
 "metadata": {
  "kernelspec": {
   "display_name": "Python 3 (ipykernel)",
   "language": "python",
   "name": "python3"
  },
  "language_info": {
   "codemirror_mode": {
    "name": "ipython",
    "version": 3
   },
   "file_extension": ".py",
   "mimetype": "text/x-python",
   "name": "python",
   "nbconvert_exporter": "python",
   "pygments_lexer": "ipython3",
   "version": "3.10.9"
  }
 },
 "nbformat": 4,
 "nbformat_minor": 2
}
