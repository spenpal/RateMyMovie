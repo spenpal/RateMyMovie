{
 "cells": [
  {
   "attachments": {},
   "cell_type": "markdown",
   "metadata": {},
   "source": [
    "## FEATURE SELECTION"
   ]
  },
  {
   "cell_type": "code",
   "execution_count": 3,
   "metadata": {},
   "outputs": [],
   "source": [
    "# Import necessary libraries\n",
    "import pandas as pd\n",
    "from sklearn.feature_selection import RFE\n",
    "from sklearn.linear_model import LogisticRegression"
   ]
  },
  {
   "cell_type": "code",
   "execution_count": null,
   "metadata": {},
   "outputs": [],
   "source": [
    "# Load the dataset\n",
    "df = pd.read_csv('../datasets/one_hot_encoded_action_movie_data.csv')\n",
    "\n",
    "# Split the dataset into features and target variable\n",
    "X = df.drop('rating_class', axis=1)\n",
    "y = df['rating_class']\n",
    "\n",
    "# Create a logistic regression model\n",
    "lr = LogisticRegression()\n",
    "\n",
    "# Perform feature selection using RFE\n",
    "rfe = RFE(estimator=lr, n_features_to_select=5, verbose=1)\n",
    "X_rfe = rfe.fit_transform(X, y)\n",
    "\n",
    "# Print the selected features\n",
    "print(\"Selected Features: \")\n",
    "for i in range(len(X.columns)):\n",
    "    if rfe.support_[i]:\n",
    "        print(X.columns[i])"
   ]
  }
 ],
 "metadata": {
  "kernelspec": {
   "display_name": ".venv",
   "language": "python",
   "name": "python3"
  },
  "language_info": {
   "codemirror_mode": {
    "name": "ipython",
    "version": 3
   },
   "file_extension": ".py",
   "mimetype": "text/x-python",
   "name": "python",
   "nbconvert_exporter": "python",
   "pygments_lexer": "ipython3",
   "version": "3.10.9"
  },
  "orig_nbformat": 4
 },
 "nbformat": 4,
 "nbformat_minor": 2
}
