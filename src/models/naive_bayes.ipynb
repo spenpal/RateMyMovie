{
 "cells": [
  {
   "attachments": {},
   "cell_type": "markdown",
   "metadata": {},
   "source": [
    "# Naive Bayes\n",
    "\n",
    "The main purpose of this file serves to run hyperparamter tuning to find the best settings for the chosen model, which will then be transferred onto the main `models.ipynb` file."
   ]
  },
  {
   "cell_type": "code",
   "execution_count": 4,
   "metadata": {},
   "outputs": [],
   "source": [
    "# IMPORTS\n",
    "from utils import *\n",
    "from sklearn.naive_bayes import MultinomialNB, GaussianNB, CategoricalNB\n",
    "from sklearn.feature_extraction.text import CountVectorizer"
   ]
  },
  {
   "cell_type": "code",
   "execution_count": 5,
   "metadata": {},
   "outputs": [],
   "source": [
    "# READ AND SPLIT DATA\n",
    "df = pd.read_pickle(\"../../datasets/pickle/processed_action_movie_data.pkl\")\n",
    "\n",
    "X, y = df.drop(\"rating\", axis=1), df['rating']\n",
    "X_train, X_test, y_train, y_test = train_test_split(X, y, test_size=0.2, random_state=42)\n",
    "X_train, X_test, y_train, y_test = catboost_encoding(X_train, X_test, y_train, y_test)"
   ]
  },
  {
   "attachments": {},
   "cell_type": "markdown",
   "metadata": {},
   "source": [
    "### Training"
   ]
  },
  {
   "cell_type": "code",
   "execution_count": 6,
   "metadata": {},
   "outputs": [
    {
     "name": "stdout",
     "output_type": "stream",
     "text": [
      "Best parameters:  {'priors': None, 'var_smoothing': 1e-07}\n",
      "Best score:  0.5920888838130373\n"
     ]
    }
   ],
   "source": [
    "# create a linear regression object\n",
    "clf1 = MultinomialNB()\n",
    "clf1.fit(X_train, y_train)\n",
    "\n",
    "\n",
    "\n",
    "clf2 = GaussianNB()\n",
    "clf2.fit(X_train, y_train)\n",
    "\n",
    "clf3 = CategoricalNB(fit_prior=False)\n",
    "clf3.fit(X_train, y_train)\n",
    "\n",
    "# Define the parameter grid\n",
    "param_grid = {'priors': [None, [0.25, 0.25, 0.5], [0.4, 0.3, 0.3]], \n",
    "              'var_smoothing': [1e-9, 1e-8, 1e-7, 1e-6]}\n",
    "\n",
    "# Define the GridSearchCV object\n",
    "grid_search = GridSearchCV(clf2, param_grid=param_grid, cv=5, scoring=\"f1_macro\")\n",
    "\n",
    "# Fit the GridSearchCV object to the data\n",
    "grid_search.fit(X_train, y_train)\n",
    "\n",
    "# Print the best hyperparameters and the corresponding score\n",
    "print(\"Best parameters: \", grid_search.best_params_)\n",
    "print(\"Best score: \", grid_search.best_score_)\n",
    "\n",
    "\n"
   ]
  }
 ],
 "metadata": {
  "kernelspec": {
   "display_name": "Python 3",
   "language": "python",
   "name": "python3"
  },
  "language_info": {
   "codemirror_mode": {
    "name": "ipython",
    "version": 3
   },
   "file_extension": ".py",
   "mimetype": "text/x-python",
   "name": "python",
   "nbconvert_exporter": "python",
   "pygments_lexer": "ipython3",
   "version": "3.10.11"
  },
  "orig_nbformat": 4
 },
 "nbformat": 4,
 "nbformat_minor": 2
}
